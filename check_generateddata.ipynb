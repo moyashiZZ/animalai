{
 "cells": [
  {
   "cell_type": "code",
   "execution_count": 1,
   "metadata": {},
   "outputs": [],
   "source": [
    "from PIL import Image\n",
    "import os, glob\n",
    "import numpy as np\n",
    "#from sklearn import cross_validation\n",
    "from sklearn import model_selection\n",
    "\n",
    "classes = [\"monkey\",\"boar\",\"crow\"]\n",
    "num_classes = len(classes)\n",
    "image_size = 50\n",
    "\n",
    "#画像の読み込み\n",
    "\n",
    "X = []\n",
    "Y = []\n",
    "for index, classlabel in enumerate(classes):\n",
    "    photos_dir = \"./\" + classlabel\n",
    "    files = glob.glob(photos_dir + \"/*.jpg\")\n",
    "    for i, file in enumerate(files):\n",
    "        if i >= 120: break\n",
    "        image = Image.open(file);\n",
    "        image = image.convert(\"RGB\")\n",
    "        image = image.resize((image_size,image_size))\n",
    "        data = np.asarray(image)\n",
    "        X.append(data)\n",
    "        Y.append(index)\n",
    "\n",
    "X = np.array(X)\n",
    "Y = np.array(Y)\n",
    "\n",
    "X_train, X_test, y_train, y_test = model_selection.train_test_split(X, Y)\n",
    "\n",
    "xy = (X_train, X_test, y_train, y_test)\n",
    "np.save(\"./animal.npy\", xy)\n"
   ]
  },
  {
   "cell_type": "code",
   "execution_count": 3,
   "metadata": {},
   "outputs": [
    {
     "data": {
      "text/plain": [
       "90"
      ]
     },
     "execution_count": 3,
     "metadata": {},
     "output_type": "execute_result"
    }
   ],
   "source": [
    "len(X_test)"
   ]
  },
  {
   "cell_type": "code",
   "execution_count": 4,
   "metadata": {},
   "outputs": [
    {
     "data": {
      "text/plain": [
       "270"
      ]
     },
     "execution_count": 4,
     "metadata": {},
     "output_type": "execute_result"
    }
   ],
   "source": [
    "len(X_train)"
   ]
  },
  {
   "cell_type": "code",
   "execution_count": 5,
   "metadata": {},
   "outputs": [
    {
     "data": {
      "text/plain": [
       "270"
      ]
     },
     "execution_count": 5,
     "metadata": {},
     "output_type": "execute_result"
    }
   ],
   "source": [
    "len(y_train)"
   ]
  },
  {
   "cell_type": "code",
   "execution_count": 6,
   "metadata": {},
   "outputs": [
    {
     "data": {
      "text/plain": [
       "90"
      ]
     },
     "execution_count": 6,
     "metadata": {},
     "output_type": "execute_result"
    }
   ],
   "source": [
    "len(y_test)"
   ]
  },
  {
   "cell_type": "code",
   "execution_count": 7,
   "metadata": {},
   "outputs": [
    {
     "data": {
      "text/plain": [
       "array([[[208, 224, 247],\n",
       "        [207, 223, 248],\n",
       "        [202, 218, 244],\n",
       "        ...,\n",
       "        [189, 207, 231],\n",
       "        [191, 208, 236],\n",
       "        [183, 200, 228]],\n",
       "\n",
       "       [[203, 221, 243],\n",
       "        [194, 212, 236],\n",
       "        [193, 210, 236],\n",
       "        ...,\n",
       "        [200, 218, 242],\n",
       "        [201, 219, 243],\n",
       "        [194, 212, 236]],\n",
       "\n",
       "       [[198, 216, 240],\n",
       "        [189, 206, 232],\n",
       "        [190, 207, 233],\n",
       "        ...,\n",
       "        [200, 217, 243],\n",
       "        [203, 221, 245],\n",
       "        [193, 211, 235]],\n",
       "\n",
       "       ...,\n",
       "\n",
       "       [[216, 228, 244],\n",
       "        [220, 233, 249],\n",
       "        [221, 234, 250],\n",
       "        ...,\n",
       "        [ 32,  31,  27],\n",
       "        [ 34,  31,  16],\n",
       "        [ 41,  35,  21]],\n",
       "\n",
       "       [[210, 224, 237],\n",
       "        [221, 234, 250],\n",
       "        [224, 236, 250],\n",
       "        ...,\n",
       "        [  8,   3,   0],\n",
       "        [  6,   1,   0],\n",
       "        [ 16,   9,   3]],\n",
       "\n",
       "       [[210, 223, 239],\n",
       "        [211, 224, 240],\n",
       "        [209, 221, 237],\n",
       "        ...,\n",
       "        [234, 244, 253],\n",
       "        [231, 243, 255],\n",
       "        [220, 232, 248]]], dtype=uint8)"
      ]
     },
     "execution_count": 7,
     "metadata": {},
     "output_type": "execute_result"
    }
   ],
   "source": [
    "X_train[100]"
   ]
  },
  {
   "cell_type": "code",
   "execution_count": 8,
   "metadata": {},
   "outputs": [
    {
     "data": {
      "text/plain": [
       "2"
      ]
     },
     "execution_count": 8,
     "metadata": {},
     "output_type": "execute_result"
    }
   ],
   "source": [
    "y_train[100]"
   ]
  },
  {
   "cell_type": "code",
   "execution_count": null,
   "metadata": {},
   "outputs": [],
   "source": []
  }
 ],
 "metadata": {
  "kernelspec": {
   "display_name": "Python 3",
   "language": "python",
   "name": "python3"
  },
  "language_info": {
   "codemirror_mode": {
    "name": "ipython",
    "version": 3
   },
   "file_extension": ".py",
   "mimetype": "text/x-python",
   "name": "python",
   "nbconvert_exporter": "python",
   "pygments_lexer": "ipython3",
   "version": "3.6.6"
  }
 },
 "nbformat": 4,
 "nbformat_minor": 2
}
